{
 "cells": [
  {
   "cell_type": "code",
   "execution_count": 53,
   "id": "initial_id",
   "metadata": {
    "collapsed": true,
    "ExecuteTime": {
     "end_time": "2023-10-30T08:16:08.285768600Z",
     "start_time": "2023-10-30T08:16:08.271362500Z"
    }
   },
   "outputs": [],
   "source": [
    "b = [1, 2, 3]"
   ]
  },
  {
   "cell_type": "code",
   "execution_count": 54,
   "outputs": [],
   "source": [
    "b?"
   ],
   "metadata": {
    "collapsed": false,
    "ExecuteTime": {
     "end_time": "2023-10-30T08:16:08.334033400Z",
     "start_time": "2023-10-30T08:16:08.288732300Z"
    }
   },
   "id": "615c4ceb82940223"
  },
  {
   "cell_type": "code",
   "execution_count": 55,
   "outputs": [
    {
     "name": "stdout",
     "output_type": "stream",
     "text": [
      "M3\n"
     ]
    }
   ],
   "source": [
    "print(\"M3\")"
   ],
   "metadata": {
    "collapsed": false,
    "ExecuteTime": {
     "end_time": "2023-10-30T08:16:08.338025600Z",
     "start_time": "2023-10-30T08:16:08.306878500Z"
    }
   },
   "id": "b9215ebc632faa0a"
  },
  {
   "cell_type": "code",
   "execution_count": 56,
   "outputs": [],
   "source": [
    "def add_numbers(a, b):\n",
    "    return a + b"
   ],
   "metadata": {
    "collapsed": false,
    "ExecuteTime": {
     "end_time": "2023-10-30T08:16:08.347732Z",
     "start_time": "2023-10-30T08:16:08.341014Z"
    }
   },
   "id": "2058d5325d258c2b"
  },
  {
   "cell_type": "code",
   "execution_count": 57,
   "outputs": [],
   "source": [
    "add_numbers?"
   ],
   "metadata": {
    "collapsed": false,
    "ExecuteTime": {
     "end_time": "2023-10-30T08:16:08.360351500Z",
     "start_time": "2023-10-30T08:16:08.351698400Z"
    }
   },
   "id": "63293a1a52ef848a"
  },
  {
   "cell_type": "code",
   "execution_count": 58,
   "outputs": [],
   "source": [
    "add_numbers??"
   ],
   "metadata": {
    "collapsed": false,
    "ExecuteTime": {
     "end_time": "2023-10-30T08:16:08.415342500Z",
     "start_time": "2023-10-30T08:16:08.359354Z"
    }
   },
   "id": "e8af09aa6b8ae7fc"
  },
  {
   "cell_type": "code",
   "execution_count": 59,
   "outputs": [],
   "source": [
    "import numpy as np\n",
    "np.*load*?"
   ],
   "metadata": {
    "collapsed": false,
    "ExecuteTime": {
     "end_time": "2023-10-30T08:16:08.417338700Z",
     "start_time": "2023-10-30T08:16:08.369521400Z"
    }
   },
   "id": "8bb8f771cdbe98"
  },
  {
   "cell_type": "markdown",
   "source": [
    "Using magic funcs"
   ],
   "metadata": {
    "collapsed": false
   },
   "id": "9a40d6754fbba381"
  },
  {
   "cell_type": "code",
   "execution_count": 60,
   "outputs": [],
   "source": [
    "# 运行%matplotlib可以进行设置，可以创建多个绘图窗口，而不会干扰控制台session\n",
    "%matplotlib inline"
   ],
   "metadata": {
    "collapsed": false,
    "ExecuteTime": {
     "end_time": "2023-10-30T08:16:08.425340Z",
     "start_time": "2023-10-30T08:16:08.381574200Z"
    }
   },
   "id": "5cfe8ae8ffe5ad97"
  },
  {
   "cell_type": "code",
   "execution_count": 61,
   "outputs": [
    {
     "data": {
      "text/plain": "[<matplotlib.lines.Line2D at 0x22698042e10>]"
     },
     "execution_count": 61,
     "metadata": {},
     "output_type": "execute_result"
    },
    {
     "data": {
      "text/plain": "<Figure size 640x480 with 1 Axes>",
      "image/png": "[encoded data removed]"
     },
     "metadata": {},
     "output_type": "display_data"
    }
   ],
   "source": [
    "import matplotlib.pyplot as plt\n",
    "plt.plot(np.random.randn(50).cumsum())"
   ],
   "metadata": {
    "collapsed": false,
    "ExecuteTime": {
     "end_time": "2023-10-30T08:16:08.504761300Z",
     "start_time": "2023-10-30T08:16:08.388415800Z"
    }
   },
   "id": "7bc780d19c1390fe"
  },
  {
   "cell_type": "markdown",
   "source": [
    "### 变量和参数传递\n",
    "赋值也称作**绑定**，我们是把一个名字绑定给一个对象，变量名有时可能被称为绑定变量。\n",
    "但是当对象作为**参数**传递给函数时，新的**局域变量**创建了对原始对象的引用而不是赋值，变动不会反应到上一层，因此可以可以改变可变参数的内容"
   ],
   "metadata": {
    "collapsed": false
   },
   "id": "80d5d6f937f1622e"
  },
  {
   "cell_type": "code",
   "execution_count": 62,
   "outputs": [
    {
     "data": {
      "text/plain": "[1, 2, 3, 4]"
     },
     "execution_count": 62,
     "metadata": {},
     "output_type": "execute_result"
    }
   ],
   "source": [
    "# 同一作用域\n",
    "a = [1, 2, 3]\n",
    "b = a\n",
    "a.append(4)\n",
    "b"
   ],
   "metadata": {
    "collapsed": false,
    "ExecuteTime": {
     "end_time": "2023-10-30T08:16:08.510600400Z",
     "start_time": "2023-10-30T08:16:08.506756Z"
    }
   },
   "id": "2b0f4e424a424049"
  },
  {
   "cell_type": "code",
   "execution_count": 63,
   "outputs": [
    {
     "data": {
      "text/plain": "[1, 2, 3, 4]"
     },
     "execution_count": 63,
     "metadata": {},
     "output_type": "execute_result"
    }
   ],
   "source": [
    "# 参数传递到局域\n",
    "def append_element(some_list, element):\n",
    "    some_list.append(element)\n",
    "    \n",
    "data = [1, 2, 3]\n",
    "append_element(data, 4)\n",
    "data"
   ],
   "metadata": {
    "collapsed": false,
    "ExecuteTime": {
     "end_time": "2023-10-30T08:16:08.524498600Z",
     "start_time": "2023-10-30T08:16:08.511598700Z"
    }
   },
   "id": "dbf66f4650149a9e"
  },
  {
   "cell_type": "markdown",
   "source": [
    "### 使用`isinstance`函数检查对象是某个类型的实例\n",
    "可以用类型元组，检查对象的类型是否在元组中"
   ],
   "metadata": {
    "collapsed": false
   },
   "id": "9fc83e3328f714b7"
  },
  {
   "cell_type": "code",
   "execution_count": 64,
   "outputs": [
    {
     "data": {
      "text/plain": "True"
     },
     "execution_count": 64,
     "metadata": {},
     "output_type": "execute_result"
    }
   ],
   "source": [
    "a = 5\n",
    "isinstance(a, int)"
   ],
   "metadata": {
    "collapsed": false,
    "ExecuteTime": {
     "end_time": "2023-10-30T08:16:08.530636600Z",
     "start_time": "2023-10-30T08:16:08.521945200Z"
    }
   },
   "id": "d176cb118cb45626"
  },
  {
   "cell_type": "code",
   "execution_count": 65,
   "outputs": [
    {
     "name": "stdout",
     "output_type": "stream",
     "text": [
      "True\n",
      "True\n"
     ]
    }
   ],
   "source": [
    "# 使用类型元组\n",
    "a = 5; b = 4.5\n",
    "print(isinstance(a, (int, float)))\n",
    "print(isinstance(b, (int, float)))"
   ],
   "metadata": {
    "collapsed": false,
    "ExecuteTime": {
     "end_time": "2023-10-30T08:16:08.600869600Z",
     "start_time": "2023-10-30T08:16:08.530636600Z"
    }
   },
   "id": "e537a9d7fa3f81f1"
  }
 ],
 "metadata": {
  "kernelspec": {
   "display_name": "Python 3",
   "language": "python",
   "name": "python3"
  },
  "language_info": {
   "codemirror_mode": {
    "name": "ipython",
    "version": 2
   },
   "file_extension": ".py",
   "mimetype": "text/x-python",
   "name": "python",
   "nbconvert_exporter": "python",
   "pygments_lexer": "ipython2",
   "version": "2.7.6"
  }
 },
 "nbformat": 4,
 "nbformat_minor": 5
}
