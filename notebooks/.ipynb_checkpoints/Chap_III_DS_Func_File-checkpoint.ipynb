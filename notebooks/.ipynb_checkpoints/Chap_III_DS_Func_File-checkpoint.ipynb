{
 "cells": [
  {
   "cell_type": "markdown",
   "id": "ae509d772f817539",
   "metadata": {},
   "source": [
    "# Chapter III 数据结构、函数和文件"
   ]
  },
  {
   "cell_type": "markdown",
   "id": "de96ad18a22dc60f",
   "metadata": {},
   "source": [
    "## 1 数据结构和序列"
   ]
  },
  {
   "cell_type": "markdown",
   "id": "70eba1a5e38c06f9",
   "metadata": {},
   "source": [
    "### 1.1 元组\n",
    "元组是一个固定长度，不可改变的Python序列对象。创建元组的最简单方式，是用逗号分隔一列值："
   ]
  },
  {
   "cell_type": "code",
   "execution_count": 93,
   "id": "b68996fad24b82ce",
   "metadata": {
    "ExecuteTime": {
     "end_time": "2023-11-01T10:06:07.546803700Z",
     "start_time": "2023-11-01T10:06:07.294684400Z"
    }
   },
   "outputs": [
    {
     "data": {
      "text/plain": [
       "(4, 5, 6)"
      ]
     },
     "execution_count": 93,
     "metadata": {},
     "output_type": "execute_result"
    }
   ],
   "source": [
    "tup = 4, 5, 6\n",
    "tup"
   ]
  },
  {
   "cell_type": "markdown",
   "id": "ec36c9dec77b7476",
   "metadata": {},
   "source": [
    "当用复杂的表达式定义元组，最好将值放在**圆括号**内，如下："
   ]
  },
  {
   "cell_type": "code",
   "execution_count": 94,
   "id": "915d0562b9722115",
   "metadata": {
    "ExecuteTime": {
     "end_time": "2023-11-01T10:06:07.798536400Z",
     "start_time": "2023-11-01T10:06:07.550793200Z"
    }
   },
   "outputs": [
    {
     "data": {
      "text/plain": [
       "((4, 5, 6), (7, 8))"
      ]
     },
     "execution_count": 94,
     "metadata": {},
     "output_type": "execute_result"
    }
   ],
   "source": [
    "nested_tup = (4, 5, 6), (7, 8)\n",
    "nested_tup"
   ]
  },
  {
   "cell_type": "markdown",
   "id": "ea41003c9eaf990d",
   "metadata": {},
   "source": [
    "用`tuple`可以将任意序列or迭代器转换为元组："
   ]
  },
  {
   "cell_type": "code",
   "execution_count": 95,
   "id": "4c6138dcb36c2923",
   "metadata": {
    "ExecuteTime": {
     "end_time": "2023-11-01T10:06:07.803550600Z",
     "start_time": "2023-11-01T10:06:07.794119100Z"
    }
   },
   "outputs": [
    {
     "data": {
      "text/plain": [
       "(4, 0, 2)"
      ]
     },
     "execution_count": 95,
     "metadata": {},
     "output_type": "execute_result"
    }
   ],
   "source": [
    "tuple([4, 0, 2])"
   ]
  },
  {
   "cell_type": "code",
   "execution_count": 96,
   "id": "6e5b7749d1624142",
   "metadata": {
    "ExecuteTime": {
     "end_time": "2023-11-01T10:06:07.819032100Z",
     "start_time": "2023-11-01T10:06:07.807512300Z"
    }
   },
   "outputs": [
    {
     "data": {
      "text/plain": [
       "('s', 't', 'r', 'i', 'n', 'g')"
      ]
     },
     "execution_count": 96,
     "metadata": {},
     "output_type": "execute_result"
    }
   ],
   "source": [
    "tup = tuple('string')\n",
    "tup"
   ]
  },
  {
   "cell_type": "markdown",
   "id": "d157ff175397f90b",
   "metadata": {},
   "source": [
    "同样的，可以用方括号访问元组中的元素，序列从0开始"
   ]
  },
  {
   "cell_type": "code",
   "execution_count": 97,
   "id": "67cdae4d9968d96e",
   "metadata": {
    "ExecuteTime": {
     "end_time": "2023-11-01T10:06:07.891437400Z",
     "start_time": "2023-11-01T10:06:07.822024700Z"
    }
   },
   "outputs": [
    {
     "data": {
      "text/plain": [
       "'s'"
      ]
     },
     "execution_count": 97,
     "metadata": {},
     "output_type": "execute_result"
    }
   ],
   "source": [
    "tup[0]"
   ]
  },
  {
   "cell_type": "markdown",
   "id": "604fb5821a1f232f",
   "metadata": {},
   "source": [
    "**元组中存储的对象可能是可变对象，但一旦创建了元组，元组中的对象就不能修改了**\n",
    "但是，如果元组中的某个对象是可变的，比如列表，可以在原位进行修改："
   ]
  },
  {
   "cell_type": "code",
   "execution_count": 98,
   "id": "49f2c0eafcfb5605",
   "metadata": {
    "ExecuteTime": {
     "end_time": "2023-11-01T10:06:07.895426300Z",
     "start_time": "2023-11-01T10:06:07.831588900Z"
    }
   },
   "outputs": [
    {
     "data": {
      "text/plain": [
       "('foo', [1, 2, 3], True)"
      ]
     },
     "execution_count": 98,
     "metadata": {},
     "output_type": "execute_result"
    }
   ],
   "source": [
    "tup = tuple(['foo', [1, 2], True])\n",
    "tup[1].append(3)\n",
    "tup"
   ]
  },
  {
   "cell_type": "markdown",
   "id": "99804a0a1808c491",
   "metadata": {},
   "source": [
    "可以用加号运算符将元组串联起来："
   ]
  },
  {
   "cell_type": "code",
   "execution_count": 99,
   "id": "2360fcff643be6e7",
   "metadata": {
    "ExecuteTime": {
     "end_time": "2023-11-01T10:06:07.922628800Z",
     "start_time": "2023-11-01T10:06:07.898418100Z"
    }
   },
   "outputs": [
    {
     "data": {
      "text/plain": [
       "(4, None, 'foo', 6, 0, 'bar')"
      ]
     },
     "execution_count": 99,
     "metadata": {},
     "output_type": "execute_result"
    }
   ],
   "source": [
    " (4, None, 'foo') + (6, 0) + ('bar',)"
   ]
  },
  {
   "cell_type": "markdown",
   "id": "1ba5c7831fac04e2",
   "metadata": {},
   "source": [
    "## 1.2 序列函数\n",
    "Python有一些有用的序列函数"
   ]
  },
  {
   "cell_type": "markdown",
   "id": "f9b993c59cc284db",
   "metadata": {},
   "source": [
    "### 1.2.1 enumerate 函数\n",
    "索引数据时，使用`enumerate`的一个好方法计算序列（唯一的）dict映射到位置的值，Python内建了一个`enumerate`函数，可以返回`(i, value)`元组序列"
   ]
  },
  {
   "cell_type": "code",
   "execution_count": 100,
   "id": "a7c93d8f4e48168d",
   "metadata": {
    "ExecuteTime": {
     "end_time": "2023-11-01T10:06:07.973491100Z",
     "start_time": "2023-11-01T10:06:07.916656200Z"
    }
   },
   "outputs": [
    {
     "data": {
      "text/plain": [
       "{'foo': 0, 'bar': 1, 'baz': 2}"
      ]
     },
     "execution_count": 100,
     "metadata": {},
     "output_type": "execute_result"
    }
   ],
   "source": [
    "some_list = ['foo', 'bar', 'baz']\n",
    "mapping = {}\n",
    "for i, v in enumerate(some_list):\n",
    "    mapping[v] = i\n",
    "mapping"
   ]
  },
  {
   "cell_type": "markdown",
   "id": "8d18744bdbb3fc",
   "metadata": {},
   "source": [
    "### 1.2.2 sorted 函数\n",
    "可以接受和`sort`相同的参数，可以从任意序列的元素返回一个新的排好序的列表："
   ]
  },
  {
   "cell_type": "code",
   "execution_count": 101,
   "id": "52e028e434cfbbf",
   "metadata": {
    "ExecuteTime": {
     "end_time": "2023-11-01T10:06:08.010586800Z",
     "start_time": "2023-11-01T10:06:07.978130100Z"
    }
   },
   "outputs": [
    {
     "name": "stdout",
     "output_type": "stream",
     "text": [
      "[0, 1, 2, 2, 3, 6, 7]\n",
      "[' ', 'a', 'c', 'e', 'e', 'h', 'o', 'r', 'r', 's']\n"
     ]
    }
   ],
   "source": [
    "print(sorted([7, 1, 2, 6, 0, 3, 2]))\n",
    "print(sorted('horse race'))"
   ]
  },
  {
   "cell_type": "markdown",
   "id": "169c42bbaaf6ff71",
   "metadata": {},
   "source": [
    "### 1.2.3 zip 函数\n",
    "可以将多个列表、元组或其他序列成对组合成一个元组列表："
   ]
  },
  {
   "cell_type": "code",
   "execution_count": 102,
   "id": "9af0f45a6a16f6ed",
   "metadata": {
    "ExecuteTime": {
     "end_time": "2023-11-01T10:06:08.077289500Z",
     "start_time": "2023-11-01T10:06:08.014541Z"
    }
   },
   "outputs": [
    {
     "data": {
      "text/plain": [
       "[('foo', 'one'), ('bar', 'two'), ('baz', 'three')]"
      ]
     },
     "execution_count": 102,
     "metadata": {},
     "output_type": "execute_result"
    }
   ],
   "source": [
    "seq1 = ['foo', 'bar', 'baz']\n",
    "seq2 = ['one', 'two', 'three']\n",
    "zipped = zip(seq1, seq2)\n",
    "list(zipped)"
   ]
  },
  {
   "cell_type": "markdown",
   "id": "112c8d79901c3fb6",
   "metadata": {},
   "source": [
    "可以处理任意多的序列，元素的个数取决于**最短的序列**"
   ]
  },
  {
   "cell_type": "code",
   "execution_count": 103,
   "id": "255f841b6a3dcf16",
   "metadata": {
    "ExecuteTime": {
     "end_time": "2023-11-01T10:06:08.116742200Z",
     "start_time": "2023-11-01T10:06:08.085267500Z"
    }
   },
   "outputs": [
    {
     "data": {
      "text/plain": [
       "[('foo', 'one', False), ('bar', 'two', True)]"
      ]
     },
     "execution_count": 103,
     "metadata": {},
     "output_type": "execute_result"
    }
   ],
   "source": [
    "seq3 = [False, True]\n",
    "list(zip(seq1, seq2, seq3))"
   ]
  },
  {
   "cell_type": "markdown",
   "id": "9cc52017f1122781",
   "metadata": {},
   "source": [
    "给出一个”被压缩“的序列，`zip`可以被用来解压序列，也可以当作把行的列表转换为列的列表："
   ]
  },
  {
   "cell_type": "code",
   "execution_count": 104,
   "id": "5406154d0d2c2caa",
   "metadata": {
    "ExecuteTime": {
     "end_time": "2023-11-01T10:06:08.169320600Z",
     "start_time": "2023-11-01T10:06:08.100078700Z"
    }
   },
   "outputs": [
    {
     "data": {
      "text/plain": [
       "('Nolan', 'Roger', 'Schilling')"
      ]
     },
     "execution_count": 104,
     "metadata": {},
     "output_type": "execute_result"
    }
   ],
   "source": [
    "pitchers = [('Nolan', 'Ryan'), ('Roger', 'Clemens'),('Schilling', 'Curt')]\n",
    "# *的作用： 解包操作，将一个可迭代对象解包为多个单独的值\n",
    "first_names, last_names = zip(*pitchers)\n",
    "first_names"
   ]
  },
  {
   "cell_type": "markdown",
   "id": "223cdceec0c414d",
   "metadata": {},
   "source": [
    "### 1.2.4 reversed 函数\n",
    "`reversed` 可以从后向前迭代一个序列\n",
    "它是一个生成器，只有实体化（即列表或for循环）之后才能创建翻转的序列"
   ]
  },
  {
   "cell_type": "code",
   "execution_count": 105,
   "id": "6848257e06e7d3a9",
   "metadata": {
    "ExecuteTime": {
     "end_time": "2023-11-01T10:06:08.187763600Z",
     "start_time": "2023-11-01T10:06:08.123723600Z"
    }
   },
   "outputs": [
    {
     "data": {
      "text/plain": [
       "[9, 8, 7, 6, 5, 4, 3, 2, 1, 0]"
      ]
     },
     "execution_count": 105,
     "metadata": {},
     "output_type": "execute_result"
    }
   ],
   "source": [
    "list(reversed(range(10)))"
   ]
  },
  {
   "cell_type": "markdown",
   "id": "4f79391f27d8c59c",
   "metadata": {},
   "source": [
    "### 1.2.5 用序列创建字典\n",
    "字典本质上是2元元组的集合，dict可以接受2元元组的列表："
   ]
  },
  {
   "cell_type": "code",
   "execution_count": 106,
   "id": "9270eb16651c859c",
   "metadata": {
    "ExecuteTime": {
     "end_time": "2023-11-01T10:06:08.255892800Z",
     "start_time": "2023-11-01T10:06:08.178295400Z"
    }
   },
   "outputs": [
    {
     "data": {
      "text/plain": [
       "{0: 4, 1: 3, 2: 2, 3: 1, 4: 0}"
      ]
     },
     "execution_count": 106,
     "metadata": {},
     "output_type": "execute_result"
    }
   ],
   "source": [
    "mapping = dict(zip(range(5), reversed(range(5))))\n",
    "mapping"
   ]
  },
  {
   "cell_type": "markdown",
   "id": "d6c245b08ffbccc7",
   "metadata": {},
   "source": [
    "### 1.2.6 有效的键类型\n",
    "字典的值可以是任意Python对象，而键通常是不可变的**标量类型**（整数、浮点型、字符串）or元组（元组中的对象必须是不可变的）。\n",
    "称之为**可哈希性**，可以用`hash`函数检测一个对象是否可哈希："
   ]
  },
  {
   "cell_type": "code",
   "execution_count": 107,
   "id": "38e05495087624b8",
   "metadata": {
    "ExecuteTime": {
     "end_time": "2023-11-01T10:06:08.268856900Z",
     "start_time": "2023-11-01T10:06:08.239426100Z"
    }
   },
   "outputs": [
    {
     "name": "stdout",
     "output_type": "stream",
     "text": [
      "4107621223531632891\n",
      "-9209053662355515447\n"
     ]
    }
   ],
   "source": [
    "print(hash('string'))\n",
    "print(hash((1, 2, (2, 3))))"
   ]
  },
  {
   "cell_type": "markdown",
   "id": "efebcc119e87a99a",
   "metadata": {},
   "source": [
    "## 2 列表、集合和字典推导式\n",
    "允许用户方便地从一个集合过滤元素，形成列表，在传递参数地过程中还可以修改元素，格式如下：\n",
    "```\n",
    "[expr for val in collection if confdition]\n",
    "```\n",
    "等同于如下for循环：\n",
    "```\n",
    "result = []\n",
    "for val in collection:\n",
    "    if condition:\n",
    "        result.append(expr)\n",
    "```"
   ]
  },
  {
   "cell_type": "code",
   "execution_count": 108,
   "id": "ae95d42f1f37aa54",
   "metadata": {
    "ExecuteTime": {
     "end_time": "2023-11-01T10:06:08.332742100Z",
     "start_time": "2023-11-01T10:06:08.270852300Z"
    }
   },
   "outputs": [
    {
     "data": {
      "text/plain": [
       "['BAT', 'CAR', 'DOVE', 'PYTHON']"
      ]
     },
     "execution_count": 108,
     "metadata": {},
     "output_type": "execute_result"
    }
   ],
   "source": [
    "strings = ['a', 'as', 'bat', 'car', 'dove', 'python']\n",
    "[x.upper() for x in strings if len(x) > 2]"
   ]
  },
  {
   "cell_type": "markdown",
   "id": "669540fe1f1a62df",
   "metadata": {},
   "source": [
    "用相似的方法，还可以推导集合和字典，如下：\n",
    "```\n",
    "dict_comp = {key-expr : value-expr for value in collection if condition}\n",
    "```\n",
    "```\n",
    "set_comp = {expr for value in collection if condition}\n",
    "```"
   ]
  },
  {
   "cell_type": "code",
   "execution_count": 109,
   "id": "1fe1c3676315b053",
   "metadata": {
    "ExecuteTime": {
     "end_time": "2023-11-01T10:06:08.345706900Z",
     "start_time": "2023-11-01T10:06:08.319423500Z"
    }
   },
   "outputs": [
    {
     "data": {
      "text/plain": [
       "{1, 2, 3, 4, 6}"
      ]
     },
     "execution_count": 109,
     "metadata": {},
     "output_type": "execute_result"
    }
   ],
   "source": [
    "unique_lengths = {len(x) for x in strings}\n",
    "unique_lengths"
   ]
  },
  {
   "cell_type": "code",
   "execution_count": 110,
   "id": "19ebdf94207f8f9d",
   "metadata": {
    "ExecuteTime": {
     "end_time": "2023-11-01T10:06:08.410622900Z",
     "start_time": "2023-11-01T10:06:08.349668300Z"
    }
   },
   "outputs": [
    {
     "data": {
      "text/plain": [
       "{'a': 0, 'as': 1, 'bat': 2, 'car': 3, 'dove': 4, 'python': 5}"
      ]
     },
     "execution_count": 110,
     "metadata": {},
     "output_type": "execute_result"
    }
   ],
   "source": [
    "loc_mapping = {val : index for index, val in enumerate(strings)}\n",
    "loc_mapping"
   ]
  },
  {
   "cell_type": "markdown",
   "id": "f8089a14f7f131b3",
   "metadata": {},
   "source": [
    "## 3 函数\n",
    "函数使用`def`关键字生命，用`return`关键字返回值\n",
    "如果到达函数末尾时没有遇到任何一条return语句，则返回`None`\n",
    "函数可以有一些**位置参数**（positional）和一些关键字参数（keyword）。关键字参数通常用于**指定默认值或可选参数**。\n",
    "下面函数中，x和y是位置参数，而z则是关键字参数。"
   ]
  },
  {
   "cell_type": "code",
   "execution_count": 111,
   "id": "f95455ba81261b54",
   "metadata": {
    "ExecuteTime": {
     "end_time": "2023-11-01T10:06:08.428573700Z",
     "start_time": "2023-11-01T10:06:08.367935Z"
    }
   },
   "outputs": [
    {
     "name": "stdout",
     "output_type": "stream",
     "text": [
      "0.06363636363636363\n",
      "35.49\n",
      "45.0\n"
     ]
    }
   ],
   "source": [
    "def my_function(x, y, z=1.5):\n",
    "    if z > 1:\n",
    "        return z * (x + y)\n",
    "    else:\n",
    "        return z / (x + y)\n",
    "    \n",
    "# 可以通过下列方式进行调用\n",
    "print(my_function(5, 6, z=0.7))\n",
    "print(my_function(3.14, 7, 3.5))\n",
    "print(my_function(10, 20))"
   ]
  },
  {
   "cell_type": "markdown",
   "id": "ba9d9c01c7941d85",
   "metadata": {},
   "source": [
    "函数参数的主要限制在于：**关键字参数必须位于位置参数之后**。可以任何顺序指定关键字参数："
   ]
  },
  {
   "cell_type": "code",
   "execution_count": 112,
   "id": "b050060389231161",
   "metadata": {
    "ExecuteTime": {
     "end_time": "2023-11-01T10:06:08.449091600Z",
     "start_time": "2023-11-01T10:06:08.431565900Z"
    }
   },
   "outputs": [
    {
     "name": "stdout",
     "output_type": "stream",
     "text": [
      "77\n",
      "77\n"
     ]
    }
   ],
   "source": [
    "print(my_function(x=5, y=6, z=7))\n",
    "print(my_function(y=6, x=5, z=7))"
   ]
  },
  {
   "cell_type": "markdown",
   "id": "6db3c398b1944dc1",
   "metadata": {},
   "source": [
    "### 3.1 返回多个值\n",
    "函数可以返回多个值"
   ]
  },
  {
   "cell_type": "code",
   "execution_count": 113,
   "id": "efe1b23b285e4e9a",
   "metadata": {
    "ExecuteTime": {
     "end_time": "2023-11-01T10:06:08.523530300Z",
     "start_time": "2023-11-01T10:06:08.463185100Z"
    }
   },
   "outputs": [
    {
     "name": "stdout",
     "output_type": "stream",
     "text": [
      "5 6 7\n"
     ]
    }
   ],
   "source": [
    "def f():\n",
    "    a = 5\n",
    "    b = 6\n",
    "    c = 7\n",
    "    return a, b, c\n",
    "a, b, c = f()\n",
    "print(a, b, c)"
   ]
  },
  {
   "cell_type": "markdown",
   "id": "f48160a03f85ca2",
   "metadata": {},
   "source": [
    "### 3.2 函数也是对象\n",
    "Python的函数都是对象\n",
    "假设有如下字符串，希望对其进行数据清理工作并执行一堆转换，我们可以将需要在一组给定字符串上执行的所有运算做成一个列表："
   ]
  },
  {
   "cell_type": "code",
   "execution_count": 114,
   "id": "4e4a41e2725d93e1",
   "metadata": {
    "ExecuteTime": {
     "end_time": "2023-11-01T10:06:08.573810800Z",
     "start_time": "2023-11-01T10:06:08.526524200Z"
    }
   },
   "outputs": [
    {
     "data": {
      "text/plain": [
       "['Alabama',\n",
       " 'Georgia',\n",
       " 'Georgia',\n",
       " 'Georgia',\n",
       " 'Florida',\n",
       " 'South   Carolina',\n",
       " 'West Virginia']"
      ]
     },
     "execution_count": 114,
     "metadata": {},
     "output_type": "execute_result"
    }
   ],
   "source": [
    "import re\n",
    "\n",
    "states = ['   Alabama ', 'Georgia!', 'Georgia', 'georgia', 'FlOrIda', 'south   carolina##', 'West virginia?']\n",
    "\n",
    "def remove_punctuation(value):\n",
    "    return re.sub('[!#?]', '', value)\n",
    "\n",
    "# 清理函数列表\n",
    "clean_ops = [str.strip, remove_punctuation, str.title]\n",
    "\n",
    "# 循环执行\n",
    "def clean_strings(strings, ops):\n",
    "    result = []\n",
    "    for value in strings:\n",
    "        for function in ops:\n",
    "            value = function(value)\n",
    "        result.append(value)\n",
    "    return result\n",
    "\n",
    "clean_strings(states, clean_ops)"
   ]
  },
  {
   "cell_type": "markdown",
   "id": "1a4d8ed07bbb9e60",
   "metadata": {},
   "source": [
    "还可以将函数用作其他函数的参数，比如`map`函数，用于在一组数据上应用一个函数:"
   ]
  },
  {
   "cell_type": "code",
   "execution_count": 115,
   "id": "4b354bfdd33f1103",
   "metadata": {
    "ExecuteTime": {
     "end_time": "2023-11-01T10:06:08.592385100Z",
     "start_time": "2023-11-01T10:06:08.586751800Z"
    }
   },
   "outputs": [
    {
     "name": "stdout",
     "output_type": "stream",
     "text": [
      "   Alabama \n",
      "Georgia\n",
      "Georgia\n",
      "georgia\n",
      "FlOrIda\n",
      "south   carolina\n",
      "West virginia\n"
     ]
    }
   ],
   "source": [
    "for x in map(remove_punctuation, states):\n",
    "    print(x)"
   ]
  },
  {
   "cell_type": "markdown",
   "id": "b5eef0c571b1f0bb",
   "metadata": {},
   "source": [
    "### 3.3 匿名（Lambda）函数\n",
    "由单条语句组成，语句的结果就是返回值，通过`lambda`关键字定义"
   ]
  },
  {
   "cell_type": "code",
   "execution_count": 116,
   "id": "8c3e979481bb924d",
   "metadata": {
    "ExecuteTime": {
     "end_time": "2023-11-01T10:06:08.662172Z",
     "start_time": "2023-11-01T10:06:08.595378600Z"
    }
   },
   "outputs": [],
   "source": [
    "def short_function(x):\n",
    "    return x * 2\n",
    "# 可以改写为\n",
    "equiv_anon = lambda x: x * 2"
   ]
  },
  {
   "cell_type": "markdown",
   "id": "f387ed0b81231e0b",
   "metadata": {},
   "source": [
    "### 3.4 柯里化：部分参数应用\n",
    "柯里化（currying），指得是通过*部分参数应用*（partial argument application）从现有函数派生出新函数的技术\n",
    "其实就只是定义了一个可以调用现有函数的新函数而已。"
   ]
  },
  {
   "cell_type": "code",
   "execution_count": 117,
   "id": "5662e0b88a7bba2e",
   "metadata": {
    "ExecuteTime": {
     "end_time": "2023-11-01T10:06:08.683122500Z",
     "start_time": "2023-11-01T10:06:08.609412800Z"
    }
   },
   "outputs": [
    {
     "data": {
      "text/plain": [
       "9"
      ]
     },
     "execution_count": 117,
     "metadata": {},
     "output_type": "execute_result"
    }
   ],
   "source": [
    "def add_numbers(x, y):\n",
    "    return x + y\n",
    "# 派生出函数，用于对其参数加5：\n",
    "add_five = lambda y: add_numbers(5, y)\n",
    "\n",
    "add_five(4)"
   ]
  },
  {
   "cell_type": "markdown",
   "id": "6b8af7c6f36ba3a7",
   "metadata": {},
   "source": [
    "内置的`functools`模块可以用`partial`函数将此过程简化:"
   ]
  },
  {
   "cell_type": "code",
   "execution_count": 118,
   "id": "768a7e6e676f86e0",
   "metadata": {
    "ExecuteTime": {
     "end_time": "2023-11-01T10:06:08.699057200Z",
     "start_time": "2023-11-01T10:06:08.686106600Z"
    }
   },
   "outputs": [
    {
     "data": {
      "text/plain": [
       "11"
      ]
     },
     "execution_count": 118,
     "metadata": {},
     "output_type": "execute_result"
    }
   ],
   "source": [
    "from functools import partial\n",
    "add_five = partial(add_numbers, 5)\n",
    "add_five(6)"
   ]
  },
  {
   "cell_type": "markdown",
   "id": "2cc84a6445d1fb5",
   "metadata": {},
   "source": [
    "### 3.5 生成器\n",
    "generator是构造新的可迭代对象的一种简单凡是，生成器以延迟的方式返回一个值序列，即返回每一个值之后暂停，直到下一个值被请求时再继续。\n",
    "创建一个生成器，只需将函数中的return替换为yield即可："
   ]
  },
  {
   "cell_type": "code",
   "execution_count": 119,
   "id": "318ed8f2546b196",
   "metadata": {
    "ExecuteTime": {
     "end_time": "2023-11-01T10:06:08.774837100Z",
     "start_time": "2023-11-01T10:06:08.714984600Z"
    }
   },
   "outputs": [
    {
     "name": "stdout",
     "output_type": "stream",
     "text": [
      "<generator object squres at 0x000001BD1FBDAA70>\n",
      "Generating squares from 1 to 100\n",
      "1 4 9 16 25 36 49 64 81 100 "
     ]
    }
   ],
   "source": [
    "def squres(n=10):\n",
    "    print('Generating squares from 1 to {0}'.format(n ** 2))\n",
    "    for i in range(1, n+1):\n",
    "        yield i ** 2\n",
    "\n",
    "# 调用生成器时，没有任何代码会被立即执行\n",
    "# 直到从该生成器中请求元素时，它才会开始执行其代码\n",
    "gen = squres()\n",
    "print(gen)\n",
    "for x in gen:\n",
    "    print(x, end=' ')"
   ]
  },
  {
   "cell_type": "markdown",
   "id": "7c309dc987624e22",
   "metadata": {},
   "source": [
    "### 3.6 itertools模块\n",
    "标准库`itertools`模块中由一组用于许多常见数据算法的生成器，例如`goupby`可以接受任何序列和一个函数，根据函数的返回值对序列中的连续元素进行分组："
   ]
  },
  {
   "cell_type": "code",
   "execution_count": 120,
   "id": "5bc4a953232bb96e",
   "metadata": {
    "ExecuteTime": {
     "end_time": "2023-11-01T10:06:08.793786800Z",
     "start_time": "2023-11-01T10:06:08.758214200Z"
    }
   },
   "outputs": [
    {
     "name": "stdout",
     "output_type": "stream",
     "text": [
      "A ['Alan', 'Adam']\n",
      "W ['Wes', 'Will']\n",
      "A ['Albert']\n",
      "S ['Steven']\n"
     ]
    }
   ],
   "source": [
    "import itertools\n",
    "first_letter = lambda x: x[0]\n",
    "names = ['Alan', 'Adam', 'Wes', 'Will', 'Albert', 'Steven']\n",
    "for letter, names in itertools.groupby(names, first_letter):\n",
    "    print(letter, list(names))"
   ]
  },
  {
   "cell_type": "markdown",
   "id": "2c9f1881f7077e9f",
   "metadata": {},
   "source": [
    "## 4 文件和操作系统\n",
    "为了打开一个文件以便读写，可以使用内置的`open`函数以及一个相对或绝对的文件路径："
   ]
  },
  {
   "cell_type": "code",
   "execution_count": 121,
   "id": "bd27d2a936489eff",
   "metadata": {
    "ExecuteTime": {
     "end_time": "2023-11-01T10:06:08.822533300Z",
     "start_time": "2023-11-01T10:06:08.807748700Z"
    }
   },
   "outputs": [
    {
     "name": "stdout",
     "output_type": "stream",
     "text": [
      "['Lorem ipsum dolor sit amet, Lorem ipsum dolor sit amet, consectetur adipiscing elit, sed do eiusmod tempor incididunt ut labore et dolore magna aliqua. Duis aute irure dolor in reprehenderit in voluptate velit esse cillum dolore eu fugiat nulla pariatur. Ut enim ad minim veniam, quis nostrud exercitation ullamco laboris nisi ut aliquip ex ea commodo consequat. Excepteur sint occaecat cupidatat non proident, sunt in culpa qui officia deserunt mollit anim id est laborum. Duis aute irure dolor in reprehenderit in voluptate velit esse cillum dolore eu fugiat nulla pariatur.', 'Lorem ipsum dolor sit amet, consectetur adipiscing elit, sed do eiusmod tempor incididunt ut labore et dolore magna aliqua. Ut enim ad minim veniam, quis nostrud exercitation ullamco laboris nisi ut aliquip ex ea commodo consequat. Duis aute irure dolor in reprehenderit in voluptate velit esse cillum dolore eu fugiat nulla pariatur. Duis aute irure dolor in reprehenderit in voluptate velit esse cillum dolore eu fugiat nulla pariatur. Excepteur sint occaecat cupidatat non proident, sunt in culpa qui officia deserunt mollit anim id est laborum.', 'Ut enim ad minim veniam, quis nostrud exercitation ullamco laboris nisi ut aliquip ex ea commodo consequat. Excepteur sint occaecat cupidatat non proident, sunt in culpa qui officia deserunt mollit anim id est laborum. Lorem ipsum dolor sit amet, consectetur adipiscing elit, sed do eiusmod tempor incididunt ut labore et dolore magna aliqua. Lorem ipsum dolor sit amet, consectetur adipiscing elit, sed do eiusmod tempor incididunt ut labore et dolore magna aliqua. Ut enim ad minim veniam, quis nostrud exercitation ullamco laboris nisi ut aliquip ex ea commodo consequat.']\n"
     ]
    }
   ],
   "source": [
    "path = '../files/lorem.txt'\n",
    "f = open(path)\n",
    "# 默认情况下，文件是以只读模式('r')打开的\n",
    "# 可以像处理列表一样来处理文件句柄f，例如对其进行迭代：\n",
    "for line in f:\n",
    "    pass\n",
    "# 从文件中取出的行都带有完整的行结束符（EOL）\n",
    "lines = [x.rstrip() for x in open(path)]\n",
    "print(lines)\n",
    "# 如果使用open创建文件对象，一定要使用close关闭，关闭文件可以返回操作系统资源：\n",
    "f.close()"
   ]
  },
  {
   "cell_type": "markdown",
   "id": "1fef4e07b6340b3f",
   "metadata": {},
   "source": [
    "使用with语句可以更容易地清理打开的文件，这样可以再推出代码块时，自动关闭文件："
   ]
  },
  {
   "cell_type": "code",
   "execution_count": 122,
   "id": "c303f66c6bd4b589",
   "metadata": {
    "ExecuteTime": {
     "end_time": "2023-11-01T10:06:08.870596600Z",
     "start_time": "2023-11-01T10:06:08.837492500Z"
    }
   },
   "outputs": [],
   "source": [
    "with open(path) as f:\n",
    "    lines = [x.rstrip() for x in f]"
   ]
  },
  {
   "cell_type": "markdown",
   "id": "23a80768b6bbba45",
   "metadata": {},
   "source": [
    "如果输入f =open(path,'w')，就会有一个新文件被创建，下表列出了所有的读写模式\n",
    "| 模式 | 说明                                   |\n",
    "| ---- | -------------------------------------- |\n",
    "| r    | 只读                                   |\n",
    "| w    | 只写，创建新文件                       |\n",
    "| a    | 附加到现有文件                         |\n",
    "| r+   | 读写模式                               |\n",
    "| b    | 附加说明某模式用于二进制文件，如 ‘rb’  |\n",
    "| U    | 通用换行模式，单独使用or附加到其他模式 |"
   ]
  },
  {
   "cell_type": "code",
   "execution_count": 123,
   "id": "3afce0921d462ef8",
   "metadata": {
    "ExecuteTime": {
     "end_time": "2023-11-01T10:06:08.898887500Z",
     "start_time": "2023-11-01T10:06:08.875590400Z"
    }
   },
   "outputs": [
    {
     "name": "stdout",
     "output_type": "stream",
     "text": [
      "Lorem ipsum\n",
      "b'Lorem ipsum'\n",
      "position of f:  11\n",
      "position of f2:  11\n"
     ]
    }
   ],
   "source": [
    "f = open(path)\n",
    "print(f.read(11))\n",
    "f2 = open(path, 'rb')\n",
    "print(f2.read(11))\n",
    "\n",
    "# read模式会将文件句柄的位置提前，提前的数量时读取的字节书。\n",
    "# tell可以给出当前的位置\n",
    "print('position of f: ', f.tell())\n",
    "print('position of f2: ', f2.tell())\n",
    "f.close()\n",
    "f2.close()"
   ]
  },
  {
   "cell_type": "markdown",
   "id": "a9ff95c9f35d4bf2",
   "metadata": {},
   "source": [
    "向文件写入，可以使用文件的write或writelines方法："
   ]
  },
  {
   "cell_type": "code",
   "execution_count": 124,
   "id": "76a12dfea03d7a18",
   "metadata": {
    "ExecuteTime": {
     "end_time": "2023-11-01T10:06:08.924749Z",
     "start_time": "2023-11-01T10:06:08.913823200Z"
    }
   },
   "outputs": [
    {
     "data": {
      "text/plain": [
       "['Lorem ipsum dolor sit amet, Lorem ipsum dolor sit amet, consectetur adipiscing elit, sed do eiusmod tempor incididunt ut labore et dolore magna aliqua. Duis aute irure dolor in reprehenderit in voluptate velit esse cillum dolore eu fugiat nulla pariatur. Ut enim ad minim veniam, quis nostrud exercitation ullamco laboris nisi ut aliquip ex ea commodo consequat. Excepteur sint occaecat cupidatat non proident, sunt in culpa qui officia deserunt mollit anim id est laborum. Duis aute irure dolor in reprehenderit in voluptate velit esse cillum dolore eu fugiat nulla pariatur. \\n',\n",
       " 'Lorem ipsum dolor sit amet, consectetur adipiscing elit, sed do eiusmod tempor incididunt ut labore et dolore magna aliqua. Ut enim ad minim veniam, quis nostrud exercitation ullamco laboris nisi ut aliquip ex ea commodo consequat. Duis aute irure dolor in reprehenderit in voluptate velit esse cillum dolore eu fugiat nulla pariatur. Duis aute irure dolor in reprehenderit in voluptate velit esse cillum dolore eu fugiat nulla pariatur. Excepteur sint occaecat cupidatat non proident, sunt in culpa qui officia deserunt mollit anim id est laborum. \\n',\n",
       " 'Ut enim ad minim veniam, quis nostrud exercitation ullamco laboris nisi ut aliquip ex ea commodo consequat. Excepteur sint occaecat cupidatat non proident, sunt in culpa qui officia deserunt mollit anim id est laborum. Lorem ipsum dolor sit amet, consectetur adipiscing elit, sed do eiusmod tempor incididunt ut labore et dolore magna aliqua. Lorem ipsum dolor sit amet, consectetur adipiscing elit, sed do eiusmod tempor incididunt ut labore et dolore magna aliqua. Ut enim ad minim veniam, quis nostrud exercitation ullamco laboris nisi ut aliquip ex ea commodo consequat.']"
      ]
     },
     "execution_count": 124,
     "metadata": {},
     "output_type": "execute_result"
    }
   ],
   "source": [
    "with open('../files/tmp.txt', 'w') as handle:\n",
    "    handle.writelines(x for x in open(path) if len(x) > 1)\n",
    "with open('../files/tmp.txt') as f:\n",
    "    lines = f.readlines()\n",
    "lines"
   ]
  },
  {
   "cell_type": "markdown",
   "id": "7f567bc3e9413bd2",
   "metadata": {},
   "source": [
    "一些常用的文件方法\n",
    "| 方法              | 说明                                                   |\n",
    "| ----------------- | ------------------------------------------------------ |\n",
    "| read([size])      | 以字符串形式返回文件数据，可选参数size说明读取的字节数 |\n",
    "| readlines([size]) | 将文件返回为行列表，可选参数size                       |\n",
    "| write(str)        | 将字符串写入文件                                       |\n",
    "| close()           | 关闭句柄                                               |\n",
    "| flush             | 清空内部I/O缓存区，并将数据强行写回磁盘                |\n",
    "| seek(pos)         | 移动到指定的文件位置（整数）                           |\n",
    "| tell()            | 以整数形式返回当前文件位置                             |\n",
    "| closed            | 如果文件已关闭，则为True                               |"
   ]
  }
 ],
 "metadata": {
  "kernelspec": {
   "display_name": "Python 3 (ipykernel)",
   "language": "python",
   "name": "python3"
  },
  "language_info": {
   "codemirror_mode": {
    "name": "ipython",
    "version": 3
   },
   "file_extension": ".py",
   "mimetype": "text/x-python",
   "name": "python",
   "nbconvert_exporter": "python",
   "pygments_lexer": "ipython3",
   "version": "3.11.5"
  }
 },
 "nbformat": 4,
 "nbformat_minor": 5
}
